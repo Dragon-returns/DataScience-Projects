{
 "cells": [
  {
   "cell_type": "code",
   "execution_count": 1,
   "id": "194aff8a-deec-4313-8b9e-4519df3f0365",
   "metadata": {},
   "outputs": [
    {
     "data": {
      "text/html": [
       "<div>\n",
       "<style scoped>\n",
       "    .dataframe tbody tr th:only-of-type {\n",
       "        vertical-align: middle;\n",
       "    }\n",
       "\n",
       "    .dataframe tbody tr th {\n",
       "        vertical-align: top;\n",
       "    }\n",
       "\n",
       "    .dataframe thead th {\n",
       "        text-align: right;\n",
       "    }\n",
       "</style>\n",
       "<table border=\"1\" class=\"dataframe\">\n",
       "  <thead>\n",
       "    <tr style=\"text-align: right;\">\n",
       "      <th></th>\n",
       "      <th>satisfaction_level</th>\n",
       "      <th>last_evaluation</th>\n",
       "      <th>number_project</th>\n",
       "      <th>average_montly_hours</th>\n",
       "      <th>time_spend_company</th>\n",
       "      <th>Work_accident</th>\n",
       "      <th>left</th>\n",
       "      <th>promotion_last_5years</th>\n",
       "      <th>Department</th>\n",
       "      <th>salary</th>\n",
       "    </tr>\n",
       "  </thead>\n",
       "  <tbody>\n",
       "    <tr>\n",
       "      <th>0</th>\n",
       "      <td>0.38</td>\n",
       "      <td>0.53</td>\n",
       "      <td>2</td>\n",
       "      <td>157</td>\n",
       "      <td>3</td>\n",
       "      <td>0</td>\n",
       "      <td>1</td>\n",
       "      <td>0</td>\n",
       "      <td>sales</td>\n",
       "      <td>low</td>\n",
       "    </tr>\n",
       "    <tr>\n",
       "      <th>1</th>\n",
       "      <td>0.80</td>\n",
       "      <td>0.86</td>\n",
       "      <td>5</td>\n",
       "      <td>262</td>\n",
       "      <td>6</td>\n",
       "      <td>0</td>\n",
       "      <td>1</td>\n",
       "      <td>0</td>\n",
       "      <td>sales</td>\n",
       "      <td>medium</td>\n",
       "    </tr>\n",
       "    <tr>\n",
       "      <th>2</th>\n",
       "      <td>0.11</td>\n",
       "      <td>0.88</td>\n",
       "      <td>7</td>\n",
       "      <td>272</td>\n",
       "      <td>4</td>\n",
       "      <td>0</td>\n",
       "      <td>1</td>\n",
       "      <td>0</td>\n",
       "      <td>sales</td>\n",
       "      <td>medium</td>\n",
       "    </tr>\n",
       "    <tr>\n",
       "      <th>3</th>\n",
       "      <td>0.72</td>\n",
       "      <td>0.87</td>\n",
       "      <td>5</td>\n",
       "      <td>223</td>\n",
       "      <td>5</td>\n",
       "      <td>0</td>\n",
       "      <td>1</td>\n",
       "      <td>0</td>\n",
       "      <td>sales</td>\n",
       "      <td>low</td>\n",
       "    </tr>\n",
       "    <tr>\n",
       "      <th>4</th>\n",
       "      <td>0.37</td>\n",
       "      <td>0.52</td>\n",
       "      <td>2</td>\n",
       "      <td>159</td>\n",
       "      <td>3</td>\n",
       "      <td>0</td>\n",
       "      <td>1</td>\n",
       "      <td>0</td>\n",
       "      <td>sales</td>\n",
       "      <td>low</td>\n",
       "    </tr>\n",
       "  </tbody>\n",
       "</table>\n",
       "</div>"
      ],
      "text/plain": [
       "   satisfaction_level  last_evaluation  number_project  average_montly_hours  \\\n",
       "0                0.38             0.53               2                   157   \n",
       "1                0.80             0.86               5                   262   \n",
       "2                0.11             0.88               7                   272   \n",
       "3                0.72             0.87               5                   223   \n",
       "4                0.37             0.52               2                   159   \n",
       "\n",
       "   time_spend_company  Work_accident  left  promotion_last_5years Department  \\\n",
       "0                   3              0     1                      0      sales   \n",
       "1                   6              0     1                      0      sales   \n",
       "2                   4              0     1                      0      sales   \n",
       "3                   5              0     1                      0      sales   \n",
       "4                   3              0     1                      0      sales   \n",
       "\n",
       "   salary  \n",
       "0     low  \n",
       "1  medium  \n",
       "2  medium  \n",
       "3     low  \n",
       "4     low  "
      ]
     },
     "execution_count": 1,
     "metadata": {},
     "output_type": "execute_result"
    }
   ],
   "source": [
    "import numpy as np\n",
    "import pandas as pd\n",
    "\n",
    "import matplotlib.pyplot as plt\n",
    "import seaborn as sns\n",
    "df = pd.read_csv('Downloads/HR_capstone_dataset - HR_capstone_dataset.csv')\n",
    "df.head()"
   ]
  },
  {
   "cell_type": "code",
   "execution_count": 2,
   "id": "924b0c36-989d-48f8-a621-aef8516c9036",
   "metadata": {},
   "outputs": [
    {
     "data": {
      "text/plain": [
       "Index(['satisfaction_level', 'last_evaluation', 'number_project',\n",
       "       'average_montly_hours', 'time_spend_company', 'Work_accident', 'left',\n",
       "       'promotion_last_5years', 'Department', 'salary'],\n",
       "      dtype='object')"
      ]
     },
     "execution_count": 2,
     "metadata": {},
     "output_type": "execute_result"
    }
   ],
   "source": [
    "df.columns"
   ]
  },
  {
   "cell_type": "code",
   "execution_count": 3,
   "id": "48dac55a-9914-49db-b555-c2960a6e64c1",
   "metadata": {},
   "outputs": [
    {
     "data": {
      "text/html": [
       "<div>\n",
       "<style scoped>\n",
       "    .dataframe tbody tr th:only-of-type {\n",
       "        vertical-align: middle;\n",
       "    }\n",
       "\n",
       "    .dataframe tbody tr th {\n",
       "        vertical-align: top;\n",
       "    }\n",
       "\n",
       "    .dataframe thead th {\n",
       "        text-align: right;\n",
       "    }\n",
       "</style>\n",
       "<table border=\"1\" class=\"dataframe\">\n",
       "  <thead>\n",
       "    <tr style=\"text-align: right;\">\n",
       "      <th></th>\n",
       "      <th>satisfaction_level</th>\n",
       "      <th>last_evaluation</th>\n",
       "      <th>number_project</th>\n",
       "      <th>average_montly_hours</th>\n",
       "      <th>time_spend_company</th>\n",
       "      <th>Work_accident</th>\n",
       "      <th>left</th>\n",
       "      <th>promotion_last_5years</th>\n",
       "    </tr>\n",
       "  </thead>\n",
       "  <tbody>\n",
       "    <tr>\n",
       "      <th>count</th>\n",
       "      <td>14999.000000</td>\n",
       "      <td>14999.000000</td>\n",
       "      <td>14999.000000</td>\n",
       "      <td>14999.000000</td>\n",
       "      <td>14999.000000</td>\n",
       "      <td>14999.000000</td>\n",
       "      <td>14999.000000</td>\n",
       "      <td>14999.000000</td>\n",
       "    </tr>\n",
       "    <tr>\n",
       "      <th>mean</th>\n",
       "      <td>0.612834</td>\n",
       "      <td>0.716102</td>\n",
       "      <td>3.803054</td>\n",
       "      <td>201.050337</td>\n",
       "      <td>3.498233</td>\n",
       "      <td>0.144610</td>\n",
       "      <td>0.238083</td>\n",
       "      <td>0.021268</td>\n",
       "    </tr>\n",
       "    <tr>\n",
       "      <th>std</th>\n",
       "      <td>0.248631</td>\n",
       "      <td>0.171169</td>\n",
       "      <td>1.232592</td>\n",
       "      <td>49.943099</td>\n",
       "      <td>1.460136</td>\n",
       "      <td>0.351719</td>\n",
       "      <td>0.425924</td>\n",
       "      <td>0.144281</td>\n",
       "    </tr>\n",
       "    <tr>\n",
       "      <th>min</th>\n",
       "      <td>0.090000</td>\n",
       "      <td>0.360000</td>\n",
       "      <td>2.000000</td>\n",
       "      <td>96.000000</td>\n",
       "      <td>2.000000</td>\n",
       "      <td>0.000000</td>\n",
       "      <td>0.000000</td>\n",
       "      <td>0.000000</td>\n",
       "    </tr>\n",
       "    <tr>\n",
       "      <th>25%</th>\n",
       "      <td>0.440000</td>\n",
       "      <td>0.560000</td>\n",
       "      <td>3.000000</td>\n",
       "      <td>156.000000</td>\n",
       "      <td>3.000000</td>\n",
       "      <td>0.000000</td>\n",
       "      <td>0.000000</td>\n",
       "      <td>0.000000</td>\n",
       "    </tr>\n",
       "    <tr>\n",
       "      <th>50%</th>\n",
       "      <td>0.640000</td>\n",
       "      <td>0.720000</td>\n",
       "      <td>4.000000</td>\n",
       "      <td>200.000000</td>\n",
       "      <td>3.000000</td>\n",
       "      <td>0.000000</td>\n",
       "      <td>0.000000</td>\n",
       "      <td>0.000000</td>\n",
       "    </tr>\n",
       "    <tr>\n",
       "      <th>75%</th>\n",
       "      <td>0.820000</td>\n",
       "      <td>0.870000</td>\n",
       "      <td>5.000000</td>\n",
       "      <td>245.000000</td>\n",
       "      <td>4.000000</td>\n",
       "      <td>0.000000</td>\n",
       "      <td>0.000000</td>\n",
       "      <td>0.000000</td>\n",
       "    </tr>\n",
       "    <tr>\n",
       "      <th>max</th>\n",
       "      <td>1.000000</td>\n",
       "      <td>1.000000</td>\n",
       "      <td>7.000000</td>\n",
       "      <td>310.000000</td>\n",
       "      <td>10.000000</td>\n",
       "      <td>1.000000</td>\n",
       "      <td>1.000000</td>\n",
       "      <td>1.000000</td>\n",
       "    </tr>\n",
       "  </tbody>\n",
       "</table>\n",
       "</div>"
      ],
      "text/plain": [
       "       satisfaction_level  last_evaluation  number_project  \\\n",
       "count        14999.000000     14999.000000    14999.000000   \n",
       "mean             0.612834         0.716102        3.803054   \n",
       "std              0.248631         0.171169        1.232592   \n",
       "min              0.090000         0.360000        2.000000   \n",
       "25%              0.440000         0.560000        3.000000   \n",
       "50%              0.640000         0.720000        4.000000   \n",
       "75%              0.820000         0.870000        5.000000   \n",
       "max              1.000000         1.000000        7.000000   \n",
       "\n",
       "       average_montly_hours  time_spend_company  Work_accident          left  \\\n",
       "count          14999.000000        14999.000000   14999.000000  14999.000000   \n",
       "mean             201.050337            3.498233       0.144610      0.238083   \n",
       "std               49.943099            1.460136       0.351719      0.425924   \n",
       "min               96.000000            2.000000       0.000000      0.000000   \n",
       "25%              156.000000            3.000000       0.000000      0.000000   \n",
       "50%              200.000000            3.000000       0.000000      0.000000   \n",
       "75%              245.000000            4.000000       0.000000      0.000000   \n",
       "max              310.000000           10.000000       1.000000      1.000000   \n",
       "\n",
       "       promotion_last_5years  \n",
       "count           14999.000000  \n",
       "mean                0.021268  \n",
       "std                 0.144281  \n",
       "min                 0.000000  \n",
       "25%                 0.000000  \n",
       "50%                 0.000000  \n",
       "75%                 0.000000  \n",
       "max                 1.000000  "
      ]
     },
     "execution_count": 3,
     "metadata": {},
     "output_type": "execute_result"
    }
   ],
   "source": [
    "df.describe()"
   ]
  },
  {
   "cell_type": "code",
   "execution_count": 4,
   "id": "5eaef32b-3b7d-410e-8064-7607cd295842",
   "metadata": {},
   "outputs": [
    {
     "name": "stdout",
     "output_type": "stream",
     "text": [
      "<class 'pandas.core.frame.DataFrame'>\n",
      "RangeIndex: 14999 entries, 0 to 14998\n",
      "Data columns (total 10 columns):\n",
      " #   Column                 Non-Null Count  Dtype  \n",
      "---  ------                 --------------  -----  \n",
      " 0   satisfaction_level     14999 non-null  float64\n",
      " 1   last_evaluation        14999 non-null  float64\n",
      " 2   number_project         14999 non-null  int64  \n",
      " 3   average_montly_hours   14999 non-null  int64  \n",
      " 4   time_spend_company     14999 non-null  int64  \n",
      " 5   Work_accident          14999 non-null  int64  \n",
      " 6   left                   14999 non-null  int64  \n",
      " 7   promotion_last_5years  14999 non-null  int64  \n",
      " 8   Department             14999 non-null  object \n",
      " 9   salary                 14999 non-null  object \n",
      "dtypes: float64(2), int64(6), object(2)\n",
      "memory usage: 1.1+ MB\n"
     ]
    }
   ],
   "source": [
    "df.info()"
   ]
  },
  {
   "cell_type": "code",
   "execution_count": 5,
   "id": "0cf79f1c-8a41-4487-9e8e-cc92c636e3f8",
   "metadata": {},
   "outputs": [
    {
     "data": {
      "text/plain": [
       "Index(['satisfaction_level', 'last_evaluation', 'number_project',\n",
       "       'avgmonthly_hours', 'time_spend', 'Work_accident', 'left_job',\n",
       "       'last5yrs_promotion', 'Department_worked', 'Salary_given'],\n",
       "      dtype='object')"
      ]
     },
     "execution_count": 5,
     "metadata": {},
     "output_type": "execute_result"
    }
   ],
   "source": [
    "df = df.rename(columns={'left':'left_job', 'Department':'Department_worked','salary':'Salary_given', 'time_spend_company':'time_spend', 'average_montly_hours':'avgmonthly_hours', 'promotion_last_5years':'last5yrs_promotion'})\n",
    "df.head(10)\n",
    "df.columns"
   ]
  },
  {
   "cell_type": "code",
   "execution_count": 6,
   "id": "9ccce1e0-20b7-4b7d-ad93-edc45a584cbc",
   "metadata": {},
   "outputs": [
    {
     "name": "stdout",
     "output_type": "stream",
     "text": [
      "       satisfaction_level  last_evaluation  number_project  avgmonthly_hours  \\\n",
      "30                   0.09             0.62               6               294   \n",
      "12030                0.09             0.62               6               294   \n",
      "14241                0.09             0.62               6               294   \n",
      "71                   0.09             0.77               5               275   \n",
      "12071                0.09             0.77               5               275   \n",
      "\n",
      "       time_spend  Work_accident  left_job  last5yrs_promotion  \\\n",
      "30              4              0         1                   0   \n",
      "12030           4              0         1                   0   \n",
      "14241           4              0         1                   0   \n",
      "71              4              0         1                   0   \n",
      "12071           4              0         1                   0   \n",
      "\n",
      "      Department_worked Salary_given  \n",
      "30           accounting          low  \n",
      "12030        accounting          low  \n",
      "14241        accounting          low  \n",
      "71          product_mng       medium  \n",
      "12071       product_mng       medium  \n"
     ]
    }
   ],
   "source": [
    "duplicate_rows = df[df.duplicated(keep=False)]\n",
    "duplicate_rows\n",
    "duplicate_rows_sorted = duplicate_rows.sort_values(by = ['satisfaction_level', 'last_evaluation', 'number_project','avgmonthly_hours', 'time_spend', 'Work_accident', 'left_job', 'last5yrs_promotion', 'Department_worked','Salary_given'])\n",
    "print(duplicate_rows_sorted.head())\n",
    "df.drop_duplicates(inplace=True)"
   ]
  },
  {
   "cell_type": "code",
   "execution_count": 7,
   "id": "8ff894d1-c791-42e2-b0ca-ad42a1898196",
   "metadata": {},
   "outputs": [
    {
     "name": "stdout",
     "output_type": "stream",
     "text": [
      "<class 'pandas.core.frame.DataFrame'>\n",
      "Index: 11991 entries, 0 to 11999\n",
      "Data columns (total 10 columns):\n",
      " #   Column              Non-Null Count  Dtype  \n",
      "---  ------              --------------  -----  \n",
      " 0   satisfaction_level  11991 non-null  float64\n",
      " 1   last_evaluation     11991 non-null  float64\n",
      " 2   number_project      11991 non-null  int64  \n",
      " 3   avgmonthly_hours    11991 non-null  int64  \n",
      " 4   time_spend          11991 non-null  int64  \n",
      " 5   Work_accident       11991 non-null  int64  \n",
      " 6   left_job            11991 non-null  int64  \n",
      " 7   last5yrs_promotion  11991 non-null  int64  \n",
      " 8   Department_worked   11991 non-null  object \n",
      " 9   Salary_given        11991 non-null  object \n",
      "dtypes: float64(2), int64(6), object(2)\n",
      "memory usage: 1.0+ MB\n"
     ]
    }
   ],
   "source": [
    "df.info()"
   ]
  },
  {
   "cell_type": "code",
   "execution_count": 8,
   "id": "b0a1aeb7-e04f-46eb-8dd5-a885d3b067f4",
   "metadata": {},
   "outputs": [
    {
     "data": {
      "text/plain": [
       "<Axes: >"
      ]
     },
     "execution_count": 8,
     "metadata": {},
     "output_type": "execute_result"
    },
    {
     "data": {
      "image/png": "[encoded data removed]",
      "text/plain": [
       "<Figure size 640x480 with 1 Axes>"
      ]
     },
     "metadata": {},
     "output_type": "display_data"
    }
   ],
   "source": [
    "df.boxplot(column='time_spend', grid=False)"
   ]
  },
  {
   "cell_type": "code",
   "execution_count": 9,
   "id": "8b3de547-6e04-4960-abdd-9ac37cc5bd94",
   "metadata": {},
   "outputs": [
    {
     "data": {
      "text/plain": [
       "282"
      ]
     },
     "execution_count": 9,
     "metadata": {},
     "output_type": "execute_result"
    }
   ],
   "source": [
    "outlierss = df[df['time_spend'] >6].shape[0]\n",
    "outlierss"
   ]
  },
  {
   "cell_type": "code",
   "execution_count": 10,
   "id": "c48c50dd-1c25-4e54-b468-ef9b223ee11c",
   "metadata": {},
   "outputs": [],
   "source": [
    "#There are 282 rows containing outliers. but lets not drop them cause they are legit values. "
   ]
  },
  {
   "cell_type": "code",
   "execution_count": 11,
   "id": "153b4127-4872-46ab-84a6-fd66bd21b582",
   "metadata": {},
   "outputs": [
    {
     "name": "stdout",
     "output_type": "stream",
     "text": [
      "left_people = 1991\n",
      "stayed_people = 10000\n",
      "16.60% people left the job\n",
      "83.40% people stayed at the job\n"
     ]
    }
   ],
   "source": [
    "left_people = df[df['left_job']==1].shape[0]\n",
    "print('left_people =',left_people)\n",
    "stayed_people = df[df['left_job']==0].shape[0]\n",
    "print('stayed_people =',stayed_people)\n",
    "percentage_left = ((left_people)/df['left_job'].shape[0])*100\n",
    "print(f'{percentage_left:.2f}% people left the job')\n",
    "percentage_stayed = ((stayed_people)/df['left_job'].shape[0])*100\n",
    "print(f'{percentage_stayed:.2f}% people stayed at the job')\n"
   ]
  },
  {
   "cell_type": "code",
   "execution_count": 12,
   "id": "4f5161c0-82e5-42dd-b205-ec138660f9f0",
   "metadata": {},
   "outputs": [
    {
     "data": {
      "text/plain": [
       "<Axes: xlabel='number_project', ylabel='satisfaction_level'>"
      ]
     },
     "execution_count": 12,
     "metadata": {},
     "output_type": "execute_result"
    }
   ],
   "source": [
    "plt.figure(figsize = (8,5))\n",
    "sns.scatterplot(x ='number_project',y='satisfaction_level',data = df, color = 'maroon')\n"
   ]
  },
  {
   "cell_type": "code",
   "execution_count": 13,
   "id": "8967267b-0aa1-4657-ae73-48fd37700d51",
   "metadata": {},
   "outputs": [],
   "source": [
    "#It is seen that employees are most unsatisfied if they are given 7 projects."
   ]
  },
  {
   "cell_type": "code",
   "execution_count": 14,
   "id": "100db863-6a3f-4965-8a31-aff4fdba06c2",
   "metadata": {},
   "outputs": [
    {
     "data": {
      "text/plain": [
       "<Axes: xlabel='avgmonthly_hours', ylabel='satisfaction_level'>"
      ]
     },
     "execution_count": 14,
     "metadata": {},
     "output_type": "execute_result"
    }
   ],
   "source": [
    "plt.figure(figsize = (8,5))\n",
    "sns.scatterplot(x ='avgmonthly_hours',y='satisfaction_level',data = df, color = 'maroon')"
   ]
  },
  {
   "cell_type": "code",
   "execution_count": 15,
   "id": "4091aaac-bcbd-44f9-838c-80eef1f38edc",
   "metadata": {},
   "outputs": [],
   "source": [
    "#It can be seen that people are mostly satisfied when they get work for about 125 to 275 hours mostly. It can also be seen that employees are \n",
    "#least satisfied when they have to work around 250-300 hours a month. The above values are loosely corrleated. it can be because of other factors like salary, \n",
    "#number of projects, etc. "
   ]
  },
  {
   "cell_type": "code",
   "execution_count": 16,
   "id": "37d6b94c-f712-469c-91b7-83ddee8aa5fc",
   "metadata": {},
   "outputs": [
    {
     "data": {
      "text/plain": [
       "<Axes: xlabel='avgmonthly_hours', ylabel='satisfaction_level'>"
      ]
     },
     "execution_count": 16,
     "metadata": {},
     "output_type": "execute_result"
    }
   ],
   "source": [
    "df.boxplot(column='avgmonthly_hours', grid=False)"
   ]
  },
  {
   "cell_type": "code",
   "execution_count": 17,
   "id": "1b995af0-0387-41fa-95b8-6819e8dea775",
   "metadata": {},
   "outputs": [],
   "source": [
    "#there are no outliers in average monthly hours. "
   ]
  },
  {
   "cell_type": "code",
   "execution_count": 18,
   "id": "8b46da3b-d581-4c28-8088-9f34dbb61c03",
   "metadata": {},
   "outputs": [],
   "source": [
    "#Let\"s plot salary and other values"
   ]
  },
  {
   "cell_type": "code",
   "execution_count": 19,
   "id": "813007a7-3b12-4bab-8ddd-c3a03ffaa4d2",
   "metadata": {},
   "outputs": [
    {
     "data": {
      "text/html": [
       "<div>\n",
       "<style scoped>\n",
       "    .dataframe tbody tr th:only-of-type {\n",
       "        vertical-align: middle;\n",
       "    }\n",
       "\n",
       "    .dataframe tbody tr th {\n",
       "        vertical-align: top;\n",
       "    }\n",
       "\n",
       "    .dataframe thead th {\n",
       "        text-align: right;\n",
       "    }\n",
       "</style>\n",
       "<table border=\"1\" class=\"dataframe\">\n",
       "  <thead>\n",
       "    <tr style=\"text-align: right;\">\n",
       "      <th></th>\n",
       "      <th>satisfaction_level</th>\n",
       "      <th>last_evaluation</th>\n",
       "      <th>number_project</th>\n",
       "      <th>avgmonthly_hours</th>\n",
       "      <th>time_spend</th>\n",
       "      <th>Work_accident</th>\n",
       "      <th>left_job</th>\n",
       "      <th>last5yrs_promotion</th>\n",
       "      <th>Department_worked</th>\n",
       "      <th>Salary_given</th>\n",
       "      <th>New_salary</th>\n",
       "    </tr>\n",
       "  </thead>\n",
       "  <tbody>\n",
       "    <tr>\n",
       "      <th>0</th>\n",
       "      <td>0.38</td>\n",
       "      <td>0.53</td>\n",
       "      <td>2</td>\n",
       "      <td>157</td>\n",
       "      <td>3</td>\n",
       "      <td>0</td>\n",
       "      <td>1</td>\n",
       "      <td>0</td>\n",
       "      <td>sales</td>\n",
       "      <td>low</td>\n",
       "      <td>1</td>\n",
       "    </tr>\n",
       "    <tr>\n",
       "      <th>1</th>\n",
       "      <td>0.80</td>\n",
       "      <td>0.86</td>\n",
       "      <td>5</td>\n",
       "      <td>262</td>\n",
       "      <td>6</td>\n",
       "      <td>0</td>\n",
       "      <td>1</td>\n",
       "      <td>0</td>\n",
       "      <td>sales</td>\n",
       "      <td>medium</td>\n",
       "      <td>2</td>\n",
       "    </tr>\n",
       "    <tr>\n",
       "      <th>2</th>\n",
       "      <td>0.11</td>\n",
       "      <td>0.88</td>\n",
       "      <td>7</td>\n",
       "      <td>272</td>\n",
       "      <td>4</td>\n",
       "      <td>0</td>\n",
       "      <td>1</td>\n",
       "      <td>0</td>\n",
       "      <td>sales</td>\n",
       "      <td>medium</td>\n",
       "      <td>2</td>\n",
       "    </tr>\n",
       "    <tr>\n",
       "      <th>3</th>\n",
       "      <td>0.72</td>\n",
       "      <td>0.87</td>\n",
       "      <td>5</td>\n",
       "      <td>223</td>\n",
       "      <td>5</td>\n",
       "      <td>0</td>\n",
       "      <td>1</td>\n",
       "      <td>0</td>\n",
       "      <td>sales</td>\n",
       "      <td>low</td>\n",
       "      <td>1</td>\n",
       "    </tr>\n",
       "    <tr>\n",
       "      <th>4</th>\n",
       "      <td>0.37</td>\n",
       "      <td>0.52</td>\n",
       "      <td>2</td>\n",
       "      <td>159</td>\n",
       "      <td>3</td>\n",
       "      <td>0</td>\n",
       "      <td>1</td>\n",
       "      <td>0</td>\n",
       "      <td>sales</td>\n",
       "      <td>low</td>\n",
       "      <td>1</td>\n",
       "    </tr>\n",
       "    <tr>\n",
       "      <th>...</th>\n",
       "      <td>...</td>\n",
       "      <td>...</td>\n",
       "      <td>...</td>\n",
       "      <td>...</td>\n",
       "      <td>...</td>\n",
       "      <td>...</td>\n",
       "      <td>...</td>\n",
       "      <td>...</td>\n",
       "      <td>...</td>\n",
       "      <td>...</td>\n",
       "      <td>...</td>\n",
       "    </tr>\n",
       "    <tr>\n",
       "      <th>11995</th>\n",
       "      <td>0.90</td>\n",
       "      <td>0.55</td>\n",
       "      <td>3</td>\n",
       "      <td>259</td>\n",
       "      <td>10</td>\n",
       "      <td>1</td>\n",
       "      <td>0</td>\n",
       "      <td>1</td>\n",
       "      <td>management</td>\n",
       "      <td>high</td>\n",
       "      <td>3</td>\n",
       "    </tr>\n",
       "    <tr>\n",
       "      <th>11996</th>\n",
       "      <td>0.74</td>\n",
       "      <td>0.95</td>\n",
       "      <td>5</td>\n",
       "      <td>266</td>\n",
       "      <td>10</td>\n",
       "      <td>0</td>\n",
       "      <td>0</td>\n",
       "      <td>1</td>\n",
       "      <td>management</td>\n",
       "      <td>high</td>\n",
       "      <td>3</td>\n",
       "    </tr>\n",
       "    <tr>\n",
       "      <th>11997</th>\n",
       "      <td>0.85</td>\n",
       "      <td>0.54</td>\n",
       "      <td>3</td>\n",
       "      <td>185</td>\n",
       "      <td>10</td>\n",
       "      <td>0</td>\n",
       "      <td>0</td>\n",
       "      <td>1</td>\n",
       "      <td>management</td>\n",
       "      <td>high</td>\n",
       "      <td>3</td>\n",
       "    </tr>\n",
       "    <tr>\n",
       "      <th>11998</th>\n",
       "      <td>0.33</td>\n",
       "      <td>0.65</td>\n",
       "      <td>3</td>\n",
       "      <td>172</td>\n",
       "      <td>10</td>\n",
       "      <td>0</td>\n",
       "      <td>0</td>\n",
       "      <td>1</td>\n",
       "      <td>marketing</td>\n",
       "      <td>high</td>\n",
       "      <td>3</td>\n",
       "    </tr>\n",
       "    <tr>\n",
       "      <th>11999</th>\n",
       "      <td>0.50</td>\n",
       "      <td>0.73</td>\n",
       "      <td>4</td>\n",
       "      <td>180</td>\n",
       "      <td>3</td>\n",
       "      <td>0</td>\n",
       "      <td>0</td>\n",
       "      <td>0</td>\n",
       "      <td>IT</td>\n",
       "      <td>low</td>\n",
       "      <td>1</td>\n",
       "    </tr>\n",
       "  </tbody>\n",
       "</table>\n",
       "<p>11991 rows × 11 columns</p>\n",
       "</div>"
      ],
      "text/plain": [
       "       satisfaction_level  last_evaluation  number_project  avgmonthly_hours  \\\n",
       "0                    0.38             0.53               2               157   \n",
       "1                    0.80             0.86               5               262   \n",
       "2                    0.11             0.88               7               272   \n",
       "3                    0.72             0.87               5               223   \n",
       "4                    0.37             0.52               2               159   \n",
       "...                   ...              ...             ...               ...   \n",
       "11995                0.90             0.55               3               259   \n",
       "11996                0.74             0.95               5               266   \n",
       "11997                0.85             0.54               3               185   \n",
       "11998                0.33             0.65               3               172   \n",
       "11999                0.50             0.73               4               180   \n",
       "\n",
       "       time_spend  Work_accident  left_job  last5yrs_promotion  \\\n",
       "0               3              0         1                   0   \n",
       "1               6              0         1                   0   \n",
       "2               4              0         1                   0   \n",
       "3               5              0         1                   0   \n",
       "4               3              0         1                   0   \n",
       "...           ...            ...       ...                 ...   \n",
       "11995          10              1         0                   1   \n",
       "11996          10              0         0                   1   \n",
       "11997          10              0         0                   1   \n",
       "11998          10              0         0                   1   \n",
       "11999           3              0         0                   0   \n",
       "\n",
       "      Department_worked Salary_given  New_salary  \n",
       "0                 sales          low           1  \n",
       "1                 sales       medium           2  \n",
       "2                 sales       medium           2  \n",
       "3                 sales          low           1  \n",
       "4                 sales          low           1  \n",
       "...                 ...          ...         ...  \n",
       "11995        management         high           3  \n",
       "11996        management         high           3  \n",
       "11997        management         high           3  \n",
       "11998         marketing         high           3  \n",
       "11999                IT          low           1  \n",
       "\n",
       "[11991 rows x 11 columns]"
      ]
     },
     "execution_count": 19,
     "metadata": {},
     "output_type": "execute_result"
    }
   ],
   "source": [
    "category_mapping = {'low': 1,'medium': 2,'high': 3}\n",
    "df['New_salary'] = df['Salary_given'].map(category_mapping)\n",
    "df"
   ]
  },
  {
   "cell_type": "code",
   "execution_count": 20,
   "id": "a2a211df-d6be-4815-a4c0-239033ed4da6",
   "metadata": {},
   "outputs": [
    {
     "data": {
      "text/plain": [
       "<Axes: xlabel='New_salary', ylabel='avgmonthly_hours'>"
      ]
     },
     "execution_count": 20,
     "metadata": {},
     "output_type": "execute_result"
    }
   ],
   "source": [
    "plt.figure(figsize = (8,5))\n",
    "sns.scatterplot(x='New_salary', y = 'avgmonthly_hours', data = df, color = 'violet')"
   ]
  },
  {
   "cell_type": "code",
   "execution_count": 21,
   "id": "d0e6f8b6-8a0f-4313-a85a-9220b115943c",
   "metadata": {},
   "outputs": [],
   "source": [
    "#it can be seen there is low to negligible corrleation between salary and monthly hours"
   ]
  },
  {
   "cell_type": "code",
   "execution_count": 22,
   "id": "7926f0b6-a7b6-4cf8-8337-32ced6eed475",
   "metadata": {},
   "outputs": [
    {
     "data": {
      "text/plain": [
       "<Axes: xlabel='New_salary', ylabel='satisfaction_level'>"
      ]
     },
     "execution_count": 22,
     "metadata": {},
     "output_type": "execute_result"
    }
   ],
   "source": [
    "plt.figure(figsize = (8,5))\n",
    "sns.scatterplot(x = 'New_salary', y = 'satisfaction_level', data = df, color = 'orange')"
   ]
  },
  {
   "cell_type": "code",
   "execution_count": 23,
   "id": "079a4667-9d1d-47b5-ad71-85cb3e845221",
   "metadata": {},
   "outputs": [],
   "source": [
    "#it can be seen there is low to negligible corrleation between salary and satiscaftion level"
   ]
  },
  {
   "cell_type": "code",
   "execution_count": 24,
   "id": "75221294-a9a7-4c5e-8da4-01d55e07fd54",
   "metadata": {},
   "outputs": [
    {
     "data": {
      "text/plain": [
       "<Axes: xlabel='satisfaction_level', ylabel='last5yrs_promotion'>"
      ]
     },
     "execution_count": 24,
     "metadata": {},
     "output_type": "execute_result"
    }
   ],
   "source": [
    "plt.figure(figsize = (8,5))\n",
    "sns.scatterplot(x = 'satisfaction_level', y = 'last5yrs_promotion', data = df, color = 'purple')"
   ]
  },
  {
   "cell_type": "code",
   "execution_count": 25,
   "id": "b0fd9243-cbae-402e-8c55-d3241f63c3be",
   "metadata": {},
   "outputs": [],
   "source": [
    "#it can be seen that less no of employees are unsatisfied when they are promoted. they are loosely corrleated. "
   ]
  },
  {
   "cell_type": "code",
   "execution_count": 26,
   "id": "1a0a15ac-e133-4022-a067-19a9f3d82c29",
   "metadata": {},
   "outputs": [
    {
     "data": {
      "text/plain": [
       "<Axes: xlabel='satisfaction_level', ylabel='last_evaluation'>"
      ]
     },
     "execution_count": 26,
     "metadata": {},
     "output_type": "execute_result"
    }
   ],
   "source": [
    "\n",
    "plt.figure(figsize = (8,5))\n",
    "sns.scatterplot(x = 'satisfaction_level', y = 'last_evaluation', data = df)\n"
   ]
  },
  {
   "cell_type": "code",
   "execution_count": 27,
   "id": "e8f80382-1f16-4761-9a35-873405cfb801",
   "metadata": {},
   "outputs": [],
   "source": [
    "#It is seen that employees with higher evaluation score tend to be more staisfied, which indicates a higher corrleation"
   ]
  },
  {
   "cell_type": "code",
   "execution_count": 28,
   "id": "2e3effd8-d264-439c-b6f0-49dc65e57421",
   "metadata": {},
   "outputs": [
    {
     "data": {
      "text/plain": [
       "<Axes: xlabel='New_salary', ylabel='last_evaluation'>"
      ]
     },
     "execution_count": 28,
     "metadata": {},
     "output_type": "execute_result"
    }
   ],
   "source": [
    "plt.figure(figsize = (8,5))\n",
    "sns.scatterplot(x = 'New_salary', y = 'last_evaluation', data = df, color = 'skyblue')"
   ]
  },
  {
   "cell_type": "code",
   "execution_count": 29,
   "id": "a8cdf329-532c-4fbf-8b93-b546fcaee55d",
   "metadata": {},
   "outputs": [],
   "source": [
    "#there is less corrleation betn salary and last evaluation"
   ]
  },
  {
   "cell_type": "code",
   "execution_count": 30,
   "id": "ba66712b-6781-4a17-9527-50c54ff47494",
   "metadata": {},
   "outputs": [
    {
     "data": {
      "text/plain": [
       "<Axes: xlabel='last5yrs_promotion', ylabel='last_evaluation'>"
      ]
     },
     "execution_count": 30,
     "metadata": {},
     "output_type": "execute_result"
    }
   ],
   "source": [
    "plt.figure(figsize = (8,5))\n",
    "sns.scatterplot(x = 'last5yrs_promotion', y = 'last_evaluation', data = df, color = 'green')"
   ]
  },
  {
   "cell_type": "code",
   "execution_count": 31,
   "id": "74bdbce1-a38b-4608-80fb-138ae4c06139",
   "metadata": {},
   "outputs": [
    {
     "data": {
      "text/plain": [
       "<Axes: xlabel='avgmonthly_hours', ylabel='number_project'>"
      ]
     },
     "execution_count": 31,
     "metadata": {},
     "output_type": "execute_result"
    }
   ],
   "source": [
    "plt.figure(figsize = (8,5))\n",
    "sns.scatterplot(x = 'avgmonthly_hours', y = 'number_project', color = 'red', data = df)"
   ]
  },
  {
   "cell_type": "code",
   "execution_count": 32,
   "id": "3fcabd3f-7280-44b7-8a0c-39d1b2ae6bd4",
   "metadata": {},
   "outputs": [],
   "source": [
    "#as we can see, the upper limit of average monthly hours is more in higher number of project and lower limit of average monthly hours is significantly less in higher nyumber of projects. "
   ]
  },
  {
   "cell_type": "code",
   "execution_count": 33,
   "id": "ca4cdb47-9573-4626-beba-01cfbb86294f",
   "metadata": {},
   "outputs": [
    {
     "name": "stdout",
     "output_type": "stream",
     "text": [
      "['sales' 'accounting' 'hr' 'technical' 'support' 'management' 'IT'\n",
      " 'product_mng' 'marketing' 'RandD']\n"
     ]
    }
   ],
   "source": [
    "departments = df['Department_worked'].unique()\n",
    "print(departments)"
   ]
  },
  {
   "cell_type": "code",
   "execution_count": 34,
   "id": "cc6b8525-92b7-4dbf-9b28-2d2237ccce8f",
   "metadata": {},
   "outputs": [
    {
     "data": {
      "text/html": [
       "<div>\n",
       "<style scoped>\n",
       "    .dataframe tbody tr th:only-of-type {\n",
       "        vertical-align: middle;\n",
       "    }\n",
       "\n",
       "    .dataframe tbody tr th {\n",
       "        vertical-align: top;\n",
       "    }\n",
       "\n",
       "    .dataframe thead th {\n",
       "        text-align: right;\n",
       "    }\n",
       "</style>\n",
       "<table border=\"1\" class=\"dataframe\">\n",
       "  <thead>\n",
       "    <tr style=\"text-align: right;\">\n",
       "      <th></th>\n",
       "      <th>satisfaction_level</th>\n",
       "      <th>last_evaluation</th>\n",
       "      <th>number_project</th>\n",
       "      <th>avgmonthly_hours</th>\n",
       "      <th>time_spend</th>\n",
       "      <th>Work_accident</th>\n",
       "      <th>left_job</th>\n",
       "      <th>last5yrs_promotion</th>\n",
       "      <th>Department_worked</th>\n",
       "      <th>Salary_given</th>\n",
       "      <th>New_salary</th>\n",
       "      <th>Departments</th>\n",
       "    </tr>\n",
       "  </thead>\n",
       "  <tbody>\n",
       "    <tr>\n",
       "      <th>0</th>\n",
       "      <td>0.38</td>\n",
       "      <td>0.53</td>\n",
       "      <td>2</td>\n",
       "      <td>157</td>\n",
       "      <td>3</td>\n",
       "      <td>0</td>\n",
       "      <td>1</td>\n",
       "      <td>0</td>\n",
       "      <td>sales</td>\n",
       "      <td>low</td>\n",
       "      <td>1</td>\n",
       "      <td>1.0</td>\n",
       "    </tr>\n",
       "    <tr>\n",
       "      <th>1</th>\n",
       "      <td>0.80</td>\n",
       "      <td>0.86</td>\n",
       "      <td>5</td>\n",
       "      <td>262</td>\n",
       "      <td>6</td>\n",
       "      <td>0</td>\n",
       "      <td>1</td>\n",
       "      <td>0</td>\n",
       "      <td>sales</td>\n",
       "      <td>medium</td>\n",
       "      <td>2</td>\n",
       "      <td>1.0</td>\n",
       "    </tr>\n",
       "    <tr>\n",
       "      <th>2</th>\n",
       "      <td>0.11</td>\n",
       "      <td>0.88</td>\n",
       "      <td>7</td>\n",
       "      <td>272</td>\n",
       "      <td>4</td>\n",
       "      <td>0</td>\n",
       "      <td>1</td>\n",
       "      <td>0</td>\n",
       "      <td>sales</td>\n",
       "      <td>medium</td>\n",
       "      <td>2</td>\n",
       "      <td>1.0</td>\n",
       "    </tr>\n",
       "    <tr>\n",
       "      <th>3</th>\n",
       "      <td>0.72</td>\n",
       "      <td>0.87</td>\n",
       "      <td>5</td>\n",
       "      <td>223</td>\n",
       "      <td>5</td>\n",
       "      <td>0</td>\n",
       "      <td>1</td>\n",
       "      <td>0</td>\n",
       "      <td>sales</td>\n",
       "      <td>low</td>\n",
       "      <td>1</td>\n",
       "      <td>1.0</td>\n",
       "    </tr>\n",
       "    <tr>\n",
       "      <th>4</th>\n",
       "      <td>0.37</td>\n",
       "      <td>0.52</td>\n",
       "      <td>2</td>\n",
       "      <td>159</td>\n",
       "      <td>3</td>\n",
       "      <td>0</td>\n",
       "      <td>1</td>\n",
       "      <td>0</td>\n",
       "      <td>sales</td>\n",
       "      <td>low</td>\n",
       "      <td>1</td>\n",
       "      <td>1.0</td>\n",
       "    </tr>\n",
       "    <tr>\n",
       "      <th>...</th>\n",
       "      <td>...</td>\n",
       "      <td>...</td>\n",
       "      <td>...</td>\n",
       "      <td>...</td>\n",
       "      <td>...</td>\n",
       "      <td>...</td>\n",
       "      <td>...</td>\n",
       "      <td>...</td>\n",
       "      <td>...</td>\n",
       "      <td>...</td>\n",
       "      <td>...</td>\n",
       "      <td>...</td>\n",
       "    </tr>\n",
       "    <tr>\n",
       "      <th>11995</th>\n",
       "      <td>0.90</td>\n",
       "      <td>0.55</td>\n",
       "      <td>3</td>\n",
       "      <td>259</td>\n",
       "      <td>10</td>\n",
       "      <td>1</td>\n",
       "      <td>0</td>\n",
       "      <td>1</td>\n",
       "      <td>management</td>\n",
       "      <td>high</td>\n",
       "      <td>3</td>\n",
       "      <td>6.0</td>\n",
       "    </tr>\n",
       "    <tr>\n",
       "      <th>11996</th>\n",
       "      <td>0.74</td>\n",
       "      <td>0.95</td>\n",
       "      <td>5</td>\n",
       "      <td>266</td>\n",
       "      <td>10</td>\n",
       "      <td>0</td>\n",
       "      <td>0</td>\n",
       "      <td>1</td>\n",
       "      <td>management</td>\n",
       "      <td>high</td>\n",
       "      <td>3</td>\n",
       "      <td>6.0</td>\n",
       "    </tr>\n",
       "    <tr>\n",
       "      <th>11997</th>\n",
       "      <td>0.85</td>\n",
       "      <td>0.54</td>\n",
       "      <td>3</td>\n",
       "      <td>185</td>\n",
       "      <td>10</td>\n",
       "      <td>0</td>\n",
       "      <td>0</td>\n",
       "      <td>1</td>\n",
       "      <td>management</td>\n",
       "      <td>high</td>\n",
       "      <td>3</td>\n",
       "      <td>6.0</td>\n",
       "    </tr>\n",
       "    <tr>\n",
       "      <th>11998</th>\n",
       "      <td>0.33</td>\n",
       "      <td>0.65</td>\n",
       "      <td>3</td>\n",
       "      <td>172</td>\n",
       "      <td>10</td>\n",
       "      <td>0</td>\n",
       "      <td>0</td>\n",
       "      <td>1</td>\n",
       "      <td>marketing</td>\n",
       "      <td>high</td>\n",
       "      <td>3</td>\n",
       "      <td>9.0</td>\n",
       "    </tr>\n",
       "    <tr>\n",
       "      <th>11999</th>\n",
       "      <td>0.50</td>\n",
       "      <td>0.73</td>\n",
       "      <td>4</td>\n",
       "      <td>180</td>\n",
       "      <td>3</td>\n",
       "      <td>0</td>\n",
       "      <td>0</td>\n",
       "      <td>0</td>\n",
       "      <td>IT</td>\n",
       "      <td>low</td>\n",
       "      <td>1</td>\n",
       "      <td>7.0</td>\n",
       "    </tr>\n",
       "  </tbody>\n",
       "</table>\n",
       "<p>11991 rows × 12 columns</p>\n",
       "</div>"
      ],
      "text/plain": [
       "       satisfaction_level  last_evaluation  number_project  avgmonthly_hours  \\\n",
       "0                    0.38             0.53               2               157   \n",
       "1                    0.80             0.86               5               262   \n",
       "2                    0.11             0.88               7               272   \n",
       "3                    0.72             0.87               5               223   \n",
       "4                    0.37             0.52               2               159   \n",
       "...                   ...              ...             ...               ...   \n",
       "11995                0.90             0.55               3               259   \n",
       "11996                0.74             0.95               5               266   \n",
       "11997                0.85             0.54               3               185   \n",
       "11998                0.33             0.65               3               172   \n",
       "11999                0.50             0.73               4               180   \n",
       "\n",
       "       time_spend  Work_accident  left_job  last5yrs_promotion  \\\n",
       "0               3              0         1                   0   \n",
       "1               6              0         1                   0   \n",
       "2               4              0         1                   0   \n",
       "3               5              0         1                   0   \n",
       "4               3              0         1                   0   \n",
       "...           ...            ...       ...                 ...   \n",
       "11995          10              1         0                   1   \n",
       "11996          10              0         0                   1   \n",
       "11997          10              0         0                   1   \n",
       "11998          10              0         0                   1   \n",
       "11999           3              0         0                   0   \n",
       "\n",
       "      Department_worked Salary_given  New_salary  Departments  \n",
       "0                 sales          low           1          1.0  \n",
       "1                 sales       medium           2          1.0  \n",
       "2                 sales       medium           2          1.0  \n",
       "3                 sales          low           1          1.0  \n",
       "4                 sales          low           1          1.0  \n",
       "...                 ...          ...         ...          ...  \n",
       "11995        management         high           3          6.0  \n",
       "11996        management         high           3          6.0  \n",
       "11997        management         high           3          6.0  \n",
       "11998         marketing         high           3          9.0  \n",
       "11999                IT          low           1          7.0  \n",
       "\n",
       "[11991 rows x 12 columns]"
      ]
     },
     "execution_count": 34,
     "metadata": {},
     "output_type": "execute_result"
    }
   ],
   "source": [
    "mapping_departments = {'sales':1, 'accounting':2, 'hr':3, 'technical':4, 'support':5,'management':6, 'IT':7, 'product_mng':8, 'marketing':9, 'RAndD':10}\n",
    "df['Departments'] = df['Department_worked'].map(mapping_departments)\n",
    "df"
   ]
  },
  {
   "cell_type": "code",
   "execution_count": 35,
   "id": "c782783c-066f-408d-9fc4-52de1772d582",
   "metadata": {},
   "outputs": [
    {
     "data": {
      "text/plain": [
       "<Axes: xlabel='Departments', ylabel='satisfaction_level'>"
      ]
     },
     "execution_count": 35,
     "metadata": {},
     "output_type": "execute_result"
    }
   ],
   "source": [
    "plt.figure(figsize = (8,5))\n",
    "sns.scatterplot(x = 'Departments', y = 'satisfaction_level', color = 'cornflowerblue', data = df)"
   ]
  },
  {
   "cell_type": "code",
   "execution_count": 36,
   "id": "cde7da67-0dc2-45de-8d65-0fc4ab02e5c0",
   "metadata": {},
   "outputs": [
    {
     "data": {
      "text/plain": [
       "<Axes: xlabel='Departments', ylabel='avgmonthly_hours'>"
      ]
     },
     "execution_count": 36,
     "metadata": {},
     "output_type": "execute_result"
    }
   ],
   "source": [
    "plt.figure(figsize = (8,5))\n",
    "sns.scatterplot(x = 'Departments', y = 'avgmonthly_hours', color = 'chocolate', data = df)"
   ]
  },
  {
   "cell_type": "code",
   "execution_count": 79,
   "id": "70a23da4-b28d-4acd-a0ad-fbb3f6d24815",
   "metadata": {},
   "outputs": [
    {
     "data": {
      "text/plain": [
       "<Axes: xlabel='Departments', ylabel='left_job'>"
      ]
     },
     "execution_count": 79,
     "metadata": {},
     "output_type": "execute_result"
    }
   ],
   "source": [
    "plt.figure(figsize = (8,5))\n",
    "sns.scatterplot(x = 'Departments', y = 'left_job', color = 'darkgreen', data = df)"
   ]
  },
  {
   "cell_type": "code",
   "execution_count": 38,
   "id": "5ff8e791-eea4-4e51-9d21-608ec23a9473",
   "metadata": {},
   "outputs": [
    {
     "data": {
      "text/plain": [
       "<Axes: xlabel='Departments', ylabel='Work_accident'>"
      ]
     },
     "execution_count": 38,
     "metadata": {},
     "output_type": "execute_result"
    }
   ],
   "source": [
    "plt.figure(figsize = (8,5))\n",
    "sns.scatterplot(x = 'Departments', y = 'Work_accident', color = 'blueviolet', data = df)"
   ]
  },
  {
   "cell_type": "code",
   "execution_count": 39,
   "id": "50f5fdf0-46f5-4788-949d-e74fd5e9f202",
   "metadata": {},
   "outputs": [],
   "source": [
    "#there seems to be less corrleation betn jobs and other factors. But, some of the corrleations cant be viewed directly without table. \n",
    "#it is because of the fact that some values like work accident have only 2 values, 0 and 1. and the graph is same no matter how many values are there in 0 or 1. \n",
    "#it will be red even if we have 1 0r 1000s of values. "
   ]
  }
 ],
 "metadata": {
  "kernelspec": {
   "display_name": "Python 3 (ipykernel)",
   "language": "python",
   "name": "python3"
  },
  "language_info": {
   "codemirror_mode": {
    "name": "ipython",
    "version": 3
   },
   "file_extension": ".py",
   "mimetype": "text/x-python",
   "name": "python",
   "nbconvert_exporter": "python",
   "pygments_lexer": "ipython3",
   "version": "3.11.7"
  }
 },
 "nbformat": 4,
 "nbformat_minor": 5
}
